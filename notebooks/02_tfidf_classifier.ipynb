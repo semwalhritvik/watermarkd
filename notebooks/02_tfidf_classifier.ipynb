{
 "cells": [
  {
   "cell_type": "code",
   "execution_count": null,
   "id": "988ca624",
   "metadata": {},
   "outputs": [],
   "source": [
    "# Load full dataset\n",
    "import pandas as pd\n",
    "df = pd.read_csv(\"../data/processed_dataset.csv\")"
   ]
  },
  {
   "cell_type": "code",
   "execution_count": null,
   "id": "f954c050",
   "metadata": {},
   "outputs": [],
   "source": [
    "from sklearn.feature_extraction.text import TfidfVectorizer\n",
    "from sklearn.model_selection import train_test_split\n",
    "\n",
    "# Define feature set and target variable\n",
    "X = df[\"Text\"]\n",
    "y = df[\"Label\"]\n",
    "\n",
    "# Convert text into numerical features using TF-IDF\n",
    "# TF-IDF (Term Frequency–Inverse Document Frequency) transforms raw text into a matrix of word importance scores.\n",
    "# This helps capture how unique or common a word is across the dataset, improving classification.\n",
    "vectorizer = TfidfVectorizer(max_features=1000, stop_words=\"english\")\n",
    "X_tfidf = vectorizer.fit_transform(X)\n",
    "\n",
    "# We split the data into 80% for training and 20% for testing, ensuring both AI and Human labels are represented equally using stratified sampling.\n",
    "X_train, X_test, y_train, y_test = train_test_split(X_tfidf, y, test_size=0.2, random_state=42, stratify=y)"
   ]
  },
  {
   "cell_type": "code",
   "execution_count": null,
   "id": "e61d8e22",
   "metadata": {},
   "outputs": [
    {
     "name": "stdout",
     "output_type": "stream",
     "text": [
      "[[6 4]\n",
      " [1 9]]\n",
      "              precision    recall  f1-score   support\n",
      "\n",
      "          AI       0.86      0.60      0.71        10\n",
      "       Human       0.69      0.90      0.78        10\n",
      "\n",
      "    accuracy                           0.75        20\n",
      "   macro avg       0.77      0.75      0.74        20\n",
      "weighted avg       0.77      0.75      0.74        20\n",
      "\n"
     ]
    }
   ],
   "source": [
    "from sklearn.linear_model import LogisticRegression\n",
    "from sklearn.metrics import classification_report, confusion_matrix\n",
    "\n",
    "# Train a Logistic Regression classifier\n",
    "# Logistic Regression is a simple yet effective linear model used here as a baseline to classify AI vs Human text.\n",
    "\n",
    "model = LogisticRegression()\n",
    "model.fit(X_train, y_train)\n",
    "y_pred = model.predict(X_test)\n",
    "\n",
    "\n",
    "# Evaluate model performance\n",
    "# We check accuracy, precision, recall, and F1-score using a confusion matrix and classification report.\n",
    "\n",
    "print(confusion_matrix(y_test, y_pred))\n",
    "print(classification_report(y_test, y_pred))"
   ]
  },
  {
   "cell_type": "markdown",
   "id": "29427b2f",
   "metadata": {},
   "source": [
    "## TF-IDF + Logistic Regression Classifier (Baseline)\n",
    "\n",
    "To establish a baseline for detecting AI-generated text, we trained a simple Logistic Regression classifier on TF-IDF-transformed text samples.\n",
    "\n",
    "---\n",
    "\n",
    "### Feature Engineering\n",
    "- **Vectorizer:** `TfidfVectorizer` with 1000 max features and English stopwords\n",
    "- **Input:** Text column (100 samples total: 50 AI, 50 Human)\n",
    "- **Output:** Sparse matrix of word importance scores\n",
    "\n",
    "---\n",
    "\n",
    "###  Model Summary\n",
    "- **Model Used:** Logistic Regression (Scikit-learn)\n",
    "- **Train/Test Split:** 80/20 stratified\n",
    "- **Evaluation Metrics:** Confusion matrix, precision, recall, F1-score\n",
    "\n",
    "---\n",
    "\n",
    "### Results\n",
    "\n",
    "| Class  | Precision | Recall | F1-score |\n",
    "|--------|-----------|--------|----------|\n",
    "| AI     | 0.86      | 0.60   | 0.71     |\n",
    "| Human  | 0.69      | 0.90   | 0.78     |\n",
    "| **Accuracy** |  –       | –      | **0.75**     |\n",
    "\n",
    "- The model **recalls human text better** than AI, but **precision is higher for AI** (fewer false positives).\n",
    "- F1-scores show balanced but imperfect performance, validating that stylometric + TF-IDF features already offer separation power.\n",
    "\n",
    "---\n"
   ]
  },
  {
   "cell_type": "code",
   "execution_count": null,
   "id": "ddfb27e0",
   "metadata": {},
   "outputs": [],
   "source": []
  }
 ],
 "metadata": {
  "kernelspec": {
   "display_name": "venv",
   "language": "python",
   "name": "python3"
  },
  "language_info": {
   "codemirror_mode": {
    "name": "ipython",
    "version": 3
   },
   "file_extension": ".py",
   "mimetype": "text/x-python",
   "name": "python",
   "nbconvert_exporter": "python",
   "pygments_lexer": "ipython3",
   "version": "3.11.9"
  }
 },
 "nbformat": 4,
 "nbformat_minor": 5
}
