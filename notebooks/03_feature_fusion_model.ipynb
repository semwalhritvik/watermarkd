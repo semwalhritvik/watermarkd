{
 "cells": [
  {
   "cell_type": "code",
   "execution_count": 3,
   "id": "9059e86b",
   "metadata": {},
   "outputs": [],
   "source": [
    "# Load full dataset\n",
    "import pandas as pd\n",
    "df = pd.read_csv(\"../data/processed_dataset.csv\")\n"
   ]
  },
  {
   "cell_type": "code",
   "execution_count": 4,
   "id": "1f2d40c4",
   "metadata": {},
   "outputs": [],
   "source": [
    "# Extract stylometric features and scale them\n",
    "from sklearn.preprocessing import StandardScaler\n",
    "\n",
    "stylometric_features = df[[\"word_count\", \"sentence_count\", \"avg_word_length\", \"punctuation_count\"]]\n",
    "stylometric_scaled = StandardScaler().fit_transform(stylometric_features)"
   ]
  },
  {
   "cell_type": "code",
   "execution_count": 21,
   "id": "6dfc3f37",
   "metadata": {},
   "outputs": [],
   "source": [
    "# Combine TF IDF and stylometic features\n",
    "from sklearn.feature_extraction.text import TfidfVectorizer\n",
    "from scipy.sparse import hstack\n",
    "\n",
    "vectorizer = TfidfVectorizer(max_features=300, stop_words=\"english\")\n",
    "X_tfidf = vectorizer.fit_transform(df[\"Text\"])\n",
    "\n",
    "# Combine dense stylometric features with sparse TF-IDF matrix\n",
    "from scipy.sparse import csr_matrix\n",
    "X_combined = hstack([X_tfidf, csr_matrix(stylometric_scaled)])\n"
   ]
  },
  {
   "cell_type": "code",
   "execution_count": 22,
   "id": "3d016b21",
   "metadata": {},
   "outputs": [
    {
     "name": "stdout",
     "output_type": "stream",
     "text": [
      "[[10  0]\n",
      " [ 1  9]]\n",
      "              precision    recall  f1-score   support\n",
      "\n",
      "          AI       0.91      1.00      0.95        10\n",
      "       Human       1.00      0.90      0.95        10\n",
      "\n",
      "    accuracy                           0.95        20\n",
      "   macro avg       0.95      0.95      0.95        20\n",
      "weighted avg       0.95      0.95      0.95        20\n",
      "\n"
     ]
    }
   ],
   "source": [
    "# Train a random forest model\n",
    "from sklearn.ensemble import RandomForestClassifier\n",
    "from sklearn.model_selection import train_test_split\n",
    "from sklearn.metrics import classification_report, confusion_matrix\n",
    "\n",
    "X_train, X_test, y_train, y_test = train_test_split(X_combined, df[\"Label\"], test_size=0.2, stratify=df[\"Label\"], random_state=42)\n",
    "\n",
    "model = RandomForestClassifier(n_estimators=100, random_state=42)\n",
    "model.fit(X_train, y_train)\n",
    "\n",
    "y_pred = model.predict(X_test)\n",
    "\n",
    "print(confusion_matrix(y_test, y_pred))\n",
    "print(classification_report(y_test, y_pred))"
   ]
  },
  {
   "cell_type": "markdown",
   "id": "9423c522",
   "metadata": {},
   "source": [
    "Validating the Results"
   ]
  },
  {
   "cell_type": "code",
   "execution_count": 23,
   "id": "33b70cfe",
   "metadata": {},
   "outputs": [
    {
     "name": "stdout",
     "output_type": "stream",
     "text": [
      "CV Accuracy scores: [0.9 1.  1.  1.  1. ]\n",
      "Mean CV accuracy: 0.98\n"
     ]
    }
   ],
   "source": [
    "# 5 fold cross validation\n",
    "from sklearn.model_selection import cross_val_score\n",
    "\n",
    "scores = cross_val_score(model, X_combined, df[\"Label\"], cv=5)\n",
    "print(f\"CV Accuracy scores: {scores}\")\n",
    "print(f\"Mean CV accuracy: {scores.mean():.2f}\")\n"
   ]
  },
  {
   "cell_type": "code",
   "execution_count": 24,
   "id": "0fb530d4",
   "metadata": {},
   "outputs": [
    {
     "name": "stdout",
     "output_type": "stream",
     "text": [
      "280: 0.0108\n",
      "66: 0.0127\n",
      "95: 0.0129\n",
      "298: 0.0159\n",
      "81: 0.0160\n",
      "144: 0.0351\n",
      "127: 0.0448\n",
      "301: 0.1153\n",
      "303: 0.1515\n",
      "300: 0.1705\n"
     ]
    }
   ],
   "source": [
    "# Observe feature importances\n",
    "import numpy as np\n",
    "\n",
    "importances = model.feature_importances_\n",
    "top_idx = np.argsort(importances)[-10:]\n",
    "\n",
    "for i in top_idx:\n",
    "    print(f\"{i}: {importances[i]:.4f}\")\n",
    "\n",
    "# This will tell us what exactly the model is relying on\n",
    "# It may be overly depending on word count or a specific TF-IDF token\n"
   ]
  },
  {
   "cell_type": "markdown",
   "id": "85935a88",
   "metadata": {},
   "source": [
    "## TF-IDF + Stylometric Feature Fusion Model (Random Forest)\n",
    "\n",
    "To improve baseline performance, we combined semantic (TF-IDF) and stylometric (text structure) features, then trained a Random Forest classifier.\n",
    "\n",
    "---\n",
    "\n",
    "### Model Details\n",
    "- **TF-IDF**: 300 max features, stopwords removed\n",
    "- **Stylometric Features**: Word count, sentence count, punctuation count, avg word length\n",
    "- **Classifier**: Random Forest (100 trees)\n",
    "- **Evaluation**: 80/20 split + 5-fold cross-validation\n",
    "\n",
    "---\n",
    "\n",
    "### Performance\n",
    "\n",
    "| Metric      | Value  |\n",
    "|-------------|--------|\n",
    "| Accuracy    | 95%    |\n",
    "| Macro F1    | 0.95   |\n",
    "| CV Accuracy | 98% (avg across 5 folds) |\n",
    "\n",
    "The fusion model performed significantly better than TF-IDF alone, showing that combining structural cues with semantic features improves classifier generalizability.\n",
    "\n",
    "---\n",
    "\n",
    "### Insights\n",
    "- Human responses show greater stylistic variety (length, punctuation)\n",
    "- AI responses tend to be shorter, more templated, and structurally balanced\n",
    "- The model may be picking up on both word usage and layout/structure patterns\n",
    "\n"
   ]
  },
  {
   "cell_type": "code",
   "execution_count": null,
   "id": "72bec923",
   "metadata": {},
   "outputs": [],
   "source": []
  }
 ],
 "metadata": {
  "kernelspec": {
   "display_name": "venv",
   "language": "python",
   "name": "python3"
  },
  "language_info": {
   "codemirror_mode": {
    "name": "ipython",
    "version": 3
   },
   "file_extension": ".py",
   "mimetype": "text/x-python",
   "name": "python",
   "nbconvert_exporter": "python",
   "pygments_lexer": "ipython3",
   "version": "3.11.9"
  }
 },
 "nbformat": 4,
 "nbformat_minor": 5
}
