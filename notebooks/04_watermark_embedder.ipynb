{
 "cells": [
  {
   "cell_type": "code",
   "execution_count": 2,
   "id": "5a7179b6",
   "metadata": {},
   "outputs": [],
   "source": [
    "import random\n",
    "import re\n",
    "\n",
    "def triple_watermark(text):\n",
    "    # --- Layer 1: Zero-width space insertion ---\n",
    "    words = text.split()\n",
    "    insert_indices = random.sample(range(1, len(words)), min(3, len(words) - 1))\n",
    "    for idx in sorted(insert_indices, reverse=True):\n",
    "        words[idx] = '\\u200b' + words[idx]  # Insert ZWSP before selected words\n",
    "    text_zwsp = \" \".join(words)\n",
    "\n",
    "    # --- Layer 2: Filler phrase injection ---\n",
    "    starters = [\"Interestingly,\", \"As a matter of fact,\", \"It turns out,\"]\n",
    "    sentences = re.split(r'(?<=[.!?]) +', text_zwsp)\n",
    "    if len(sentences) > 1:\n",
    "        sentences[1] = random.choice(starters) + \" \" + sentences[1]\n",
    "    text_filler = \" \".join(sentences)\n",
    "\n",
    "    # --- Layer 3: Unicode punctuation lookalike swap ---\n",
    "    text_final = (\n",
    "        text_filler\n",
    "        .replace(\",\", \"،\", 2)     # Replace 2 commas with Arabic comma\n",
    "        .replace(\".\", \"。\", 1)    # Replace 1 period with fullwidth period\n",
    "        .replace(\"'\", \"’\")        # Replace apostrophe with right single quote\n",
    "    )\n",
    "\n",
    "    return text_final\n"
   ]
  },
  {
   "cell_type": "code",
   "execution_count": 4,
   "id": "87f207be",
   "metadata": {},
   "outputs": [],
   "source": [
    "import pandas as pd \n",
    "\n",
    "df_ai = pd.read_csv(\"../data/ai_samples.csv\")\n",
    "df_ai[\"Text_watermarked\"] = df_ai[\"Text\"].apply(triple_watermark)\n",
    "df_ai.to_csv(\"../data/ai_samples_watermarked.csv\", index=False, encoding='utf-8')\n"
   ]
  },
  {
   "cell_type": "code",
   "execution_count": null,
   "id": "f199d32f",
   "metadata": {},
   "outputs": [
    {
     "name": "stdout",
     "output_type": "stream",
     "text": [
      "True\n",
      "True\n"
     ]
    }
   ],
   "source": [
    "\n"
   ]
  },
  {
   "cell_type": "code",
   "execution_count": null,
   "id": "02d4c475",
   "metadata": {},
   "outputs": [],
   "source": []
  }
 ],
 "metadata": {
  "kernelspec": {
   "display_name": "venv (3.11.9)",
   "language": "python",
   "name": "python3"
  },
  "language_info": {
   "codemirror_mode": {
    "name": "ipython",
    "version": 3
   },
   "file_extension": ".py",
   "mimetype": "text/x-python",
   "name": "python",
   "nbconvert_exporter": "python",
   "pygments_lexer": "ipython3",
   "version": "3.11.9"
  }
 },
 "nbformat": 4,
 "nbformat_minor": 5
}
